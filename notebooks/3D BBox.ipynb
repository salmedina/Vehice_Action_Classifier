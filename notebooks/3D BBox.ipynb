{
 "cells": [
  {
   "cell_type": "code",
   "execution_count": null,
   "metadata": {},
   "outputs": [],
   "source": [
    "import argparse\n",
    "import os\n",
    "from collections import namedtuple\n",
    "\n",
    "import cv2\n",
    "import numpy as np\n",
    "\n",
    "Calibration = namedtuple('Calibration', ['image_vp1', 'image_vp2', 'image_vp3'])\n",
    "Color = namedtuple('Color', ['r', 'g', 'b'])\n"
   ]
  },
  {
   "cell_type": "code",
   "execution_count": null,
   "metadata": {},
   "outputs": [],
   "source": [
    "tracklet_bbox = [620,467,247,184]\n",
    "frame_file = '/media/zal/Seagate Backup Plus Drive/DATASETS/VIRAT/frames/VIRAT_S_000001/000003.jpg'\n",
    "vps =[(2.0139264e+03, 4.6072800e+01 ),(-3.1936128e+03, 9.7210800e+01)]\n"
   ]
  },
  {
   "cell_type": "code",
   "execution_count": null,
   "metadata": {},
   "outputs": [],
   "source": [
    "car_id = 1\n",
    "tracking_txt = '/home/zal/Devel/Vehice_Action_Classifier/data/car.txt'\n",
    "vps = [(6509, -770), (960, 1430), (-682, -770)]\n",
    "calib = Calibration(vps[0], vps[1], vps[2])\n",
    "draw_cache_dir = '/home/zal/Data/VIRAT/Output/3DBBox/VIRAT_S_000000/%03d' % car_id\n",
    "tracking_data = load_tracking_data(tracking_txt)\n",
    "output_video_path = '../output/3dBBox.mp4'\n",
    "drawn_files = []\n",
    "\n",
    "print('Drawing 3D Bounding Boxes')\n",
    "for tracklet in tracking_data[car_id]:\n",
    "    tracklet_bbox = [tracklet.x, tracklet.y, tracklet.w, tracklet.h]\n",
    "\n",
    "    frame_file = '/home/zal/Data/VIRAT/Frames/VIRAT_S_000000/%06d.png' % tracklet.frame\n",
    "    seg_json = '/home/zal/Data/VIRAT/Output/objdetector/train/VIRAT_S_000000_F_%08d.json' % tracklet.frame\n",
    "    drawn_frame_path = os.path.join(draw_cache_dir, '%06d.png' % tracklet.frame)\n",
    "\n",
    "    segmentation = find_segmentation(tracklet_bbox, seg_json)\n",
    "\n",
    "    frame_img = cv2.imread(frame_file)\n",
    "    color_mask = colorize_mask(segmentation.mask, (segmentation.size[0], segmentation.size[1]), Color(138,43,226))\n",
    "    frame_img = cv2.addWeighted(frame_img, 1.0, color_mask.astype(np.uint8), 0.5, 0)\n",
    "\n",
    "    contour_img = np.zeros([segmentation.size[0], segmentation.size[1], 1])\n",
    "    contour_img[:, :, 0] = segmentation.mask * 255\n",
    "\n",
    "    box_3d = build_box_3d(contour_img, calib)\n",
    "    draw_box_3d(frame_img, box_3d)\n",
    "\n",
    "    cv2.imwrite(drawn_frame_path, frame_img)\n",
    "    drawn_files.append(drawn_frame_path)\n",
    "\n",
    "    if len(drawn_files) % 100 == 0:\n",
    "        print('Processed frames: %d / %d' % (len(drawn_files), len(tracking_data[car_id])))\n",
    "\n",
    "print('Rendering video')\n",
    "frame_height, frame_width = cv2.imread(drawn_files[0]).shape[:2]\n",
    "fourcc = cv2.VideoWriter_fourcc(*'mp4v')\n",
    "output_video = cv2.VideoWriter(output_video_path, fourcc, 29.97, (frame_width, frame_height), True)\n",
    "\n",
    "for frame_path in drawn_files:\n",
    "    output_video.write(cv2.imread(frame_path))\n",
    "output_video.release()"
   ]
  }
 ],
 "metadata": {
  "kernelspec": {
   "display_name": "Python 3",
   "language": "python",
   "name": "python3"
  },
  "language_info": {
   "codemirror_mode": {
    "name": "ipython",
    "version": 3
   },
   "file_extension": ".py",
   "mimetype": "text/x-python",
   "name": "python",
   "nbconvert_exporter": "python",
   "pygments_lexer": "ipython3",
   "version": "3.6.6"
  }
 },
 "nbformat": 4,
 "nbformat_minor": 2
}
