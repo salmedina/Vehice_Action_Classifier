{
 "cells": [
  {
   "cell_type": "code",
   "execution_count": 1,
   "metadata": {},
   "outputs": [],
   "source": [
    "import os\n",
    "import os.path as osp\n",
    "import numpy as np\n",
    "from PIL import Image\n",
    "from glob import glob\n",
    "from joblib import Parallel,delayed\n",
    "import multiprocessing as mp"
   ]
  },
  {
   "cell_type": "code",
   "execution_count": 18,
   "metadata": {},
   "outputs": [],
   "source": [
    "def calc_mean_img(frames_dir):    \n",
    "    if not osp.isdir(frames_dir):\n",
    "        return\n",
    "    all_dir_files = [osp.join(frames_dir, fn) for fn in os.listdir(frames_dir)] \n",
    "    img_list=[filename for filename in all_dir_files if filename[-4:] in [\".jpg\",\".JPG\"]]\n",
    "    w, h = Image.open(img_list[0]).size\n",
    "    N = len(img_list)\n",
    "    \n",
    "    mean_img = np.zeros((h,w,3), np.float)\n",
    "    \n",
    "    for img in img_list:\n",
    "        img_array = np.array(Image.open(img),dtype=np.float)\n",
    "        mean_img += img_array/N \n",
    "    \n",
    "    mean_img = np.array(np.round(mean_img), dtype=np.uint8)\n",
    "    \n",
    "    save_path = frames_dir + '.jpg'\n",
    "    print(save_path)\n",
    "    save_img = Image.fromarray(mean_img, mode='RGB')\n",
    "    save_img.save(save_path)        "
   ]
  },
  {
   "cell_type": "code",
   "execution_count": 20,
   "metadata": {},
   "outputs": [
    {
     "name": "stdout",
     "output_type": "stream",
     "text": [
      "/home/zal/Data/VIRAT/Frames/mean_imgs/4.jpg\n",
      "/home/zal/Data/VIRAT/Frames/mean_imgs/7.jpg\n",
      "/home/zal/Data/VIRAT/Frames/mean_imgs/9.jpg\n",
      "/home/zal/Data/VIRAT/Frames/mean_imgs/8.jpg\n",
      "/home/zal/Data/VIRAT/Frames/mean_imgs/6.jpg\n",
      "/home/zal/Data/VIRAT/Frames/mean_imgs/10.jpg\n",
      "/home/zal/Data/VIRAT/Frames/mean_imgs/2.jpg\n",
      "/home/zal/Data/VIRAT/Frames/mean_imgs/3.jpg\n",
      "/home/zal/Data/VIRAT/Frames/mean_imgs/5.jpg\n"
     ]
    },
    {
     "ename": "ValueError",
     "evalue": "operands could not be broadcast together with shapes (270,480,3) (360,480,3) (270,480,3) ",
     "output_type": "error",
     "traceback": [
      "\u001b[0;31m---------------------------------------------------------------------------\u001b[0m",
      "\u001b[0;31mValueError\u001b[0m                                Traceback (most recent call last)",
      "\u001b[0;32m<ipython-input-20-f8303cd1d406>\u001b[0m in \u001b[0;36m<module>\u001b[0;34m()\u001b[0m\n\u001b[1;32m      2\u001b[0m \u001b[0;34m\u001b[0m\u001b[0m\n\u001b[1;32m      3\u001b[0m \u001b[0;32mfor\u001b[0m \u001b[0mfd\u001b[0m \u001b[0;32min\u001b[0m \u001b[0mglob\u001b[0m\u001b[0;34m(\u001b[0m\u001b[0mosp\u001b[0m\u001b[0;34m.\u001b[0m\u001b[0mjoin\u001b[0m\u001b[0;34m(\u001b[0m\u001b[0mvidclips_dir\u001b[0m\u001b[0;34m,\u001b[0m \u001b[0;34m'*'\u001b[0m\u001b[0;34m)\u001b[0m\u001b[0;34m)\u001b[0m\u001b[0;34m:\u001b[0m\u001b[0;34m\u001b[0m\u001b[0m\n\u001b[0;32m----> 4\u001b[0;31m     \u001b[0mcalc_mean_img\u001b[0m\u001b[0;34m(\u001b[0m\u001b[0mfd\u001b[0m\u001b[0;34m)\u001b[0m\u001b[0;34m\u001b[0m\u001b[0m\n\u001b[0m",
      "\u001b[0;32m<ipython-input-18-a70f89092439>\u001b[0m in \u001b[0;36mcalc_mean_img\u001b[0;34m(frames_dir)\u001b[0m\n\u001b[1;32m     11\u001b[0m     \u001b[0;32mfor\u001b[0m \u001b[0mimg\u001b[0m \u001b[0;32min\u001b[0m \u001b[0mimg_list\u001b[0m\u001b[0;34m:\u001b[0m\u001b[0;34m\u001b[0m\u001b[0m\n\u001b[1;32m     12\u001b[0m         \u001b[0mimg_array\u001b[0m \u001b[0;34m=\u001b[0m \u001b[0mnp\u001b[0m\u001b[0;34m.\u001b[0m\u001b[0marray\u001b[0m\u001b[0;34m(\u001b[0m\u001b[0mImage\u001b[0m\u001b[0;34m.\u001b[0m\u001b[0mopen\u001b[0m\u001b[0;34m(\u001b[0m\u001b[0mimg\u001b[0m\u001b[0;34m)\u001b[0m\u001b[0;34m,\u001b[0m\u001b[0mdtype\u001b[0m\u001b[0;34m=\u001b[0m\u001b[0mnp\u001b[0m\u001b[0;34m.\u001b[0m\u001b[0mfloat\u001b[0m\u001b[0;34m)\u001b[0m\u001b[0;34m\u001b[0m\u001b[0m\n\u001b[0;32m---> 13\u001b[0;31m         \u001b[0mmean_img\u001b[0m \u001b[0;34m+=\u001b[0m \u001b[0mimg_array\u001b[0m\u001b[0;34m/\u001b[0m\u001b[0mN\u001b[0m\u001b[0;34m\u001b[0m\u001b[0m\n\u001b[0m\u001b[1;32m     14\u001b[0m \u001b[0;34m\u001b[0m\u001b[0m\n\u001b[1;32m     15\u001b[0m     \u001b[0mmean_img\u001b[0m \u001b[0;34m=\u001b[0m \u001b[0mnp\u001b[0m\u001b[0;34m.\u001b[0m\u001b[0marray\u001b[0m\u001b[0;34m(\u001b[0m\u001b[0mnp\u001b[0m\u001b[0;34m.\u001b[0m\u001b[0mround\u001b[0m\u001b[0;34m(\u001b[0m\u001b[0mmean_img\u001b[0m\u001b[0;34m)\u001b[0m\u001b[0;34m,\u001b[0m \u001b[0mdtype\u001b[0m\u001b[0;34m=\u001b[0m\u001b[0mnp\u001b[0m\u001b[0;34m.\u001b[0m\u001b[0muint8\u001b[0m\u001b[0;34m)\u001b[0m\u001b[0;34m\u001b[0m\u001b[0m\n",
      "\u001b[0;31mValueError\u001b[0m: operands could not be broadcast together with shapes (270,480,3) (360,480,3) (270,480,3) "
     ]
    }
   ],
   "source": [
    "vidclips_dir = '/home/zal/Data/VIRAT/Frames/mean_imgs'\n",
    "\n",
    "for fd in glob(osp.join(vidclips_dir, '*')):\n",
    "    calc_mean_img(fd)\n"
   ]
  }
 ],
 "metadata": {
  "kernelspec": {
   "display_name": "Python 3",
   "language": "python",
   "name": "python3"
  },
  "language_info": {
   "codemirror_mode": {
    "name": "ipython",
    "version": 3
   },
   "file_extension": ".py",
   "mimetype": "text/x-python",
   "name": "python",
   "nbconvert_exporter": "python",
   "pygments_lexer": "ipython3",
   "version": "3.6.6"
  }
 },
 "nbformat": 4,
 "nbformat_minor": 2
}
