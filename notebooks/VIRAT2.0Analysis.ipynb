{
 "cells": [
  {
   "cell_type": "code",
   "execution_count": 1,
   "metadata": {},
   "outputs": [],
   "source": [
    "import os.path as osp"
   ]
  },
  {
   "cell_type": "code",
   "execution_count": 2,
   "metadata": {},
   "outputs": [],
   "source": [
    "v1_list_path = '/home/zal/Devel/Vehice_Action_Classifier/data/VIRAT_V1_clip_list.txt'\n",
    "v2_list_path = '/home/zal/Devel/Vehice_Action_Classifier/data/VIRAT_V2_clip_list.txt'"
   ]
  },
  {
   "cell_type": "code",
   "execution_count": 3,
   "metadata": {},
   "outputs": [],
   "source": [
    "v1_set = set([x.strip() for x in open(v1_list_path).readlines()])\n",
    "v2_set = set([x.strip() for x in open(v2_list_path).readlines()])"
   ]
  },
  {
   "cell_type": "code",
   "execution_count": 4,
   "metadata": {},
   "outputs": [
    {
     "name": "stdout",
     "output_type": "stream",
     "text": [
      "455\n",
      "315\n"
     ]
    }
   ],
   "source": [
    "print(len(v1_set))\n",
    "print(len(v2_set))"
   ]
  },
  {
   "cell_type": "code",
   "execution_count": 5,
   "metadata": {},
   "outputs": [
    {
     "name": "stdout",
     "output_type": "stream",
     "text": [
      "There are no new videos in v2\n"
     ]
    }
   ],
   "source": [
    "v2_exclusive = [x for x in v2_set if x not in v1_set]\n",
    "if len(v2_exclusive) < 1:\n",
    "    print('There are no new videos in v2')\n",
    "else:\n",
    "    print('New videos in v2')\n",
    "    print(v2_exclusive)"
   ]
  }
 ],
 "metadata": {
  "kernelspec": {
   "display_name": "Python 3",
   "language": "python",
   "name": "python3"
  },
  "language_info": {
   "codemirror_mode": {
    "name": "ipython",
    "version": 3
   },
   "file_extension": ".py",
   "mimetype": "text/x-python",
   "name": "python",
   "nbconvert_exporter": "python",
   "pygments_lexer": "ipython3",
   "version": "3.7.0"
  }
 },
 "nbformat": 4,
 "nbformat_minor": 2
}
