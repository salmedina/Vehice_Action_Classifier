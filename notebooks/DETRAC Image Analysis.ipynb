{
 "cells": [
  {
   "cell_type": "code",
   "execution_count": 21,
   "metadata": {},
   "outputs": [],
   "source": [
    "import cv2\n",
    "import numpy as np\n",
    "from PIL import Image\n",
    "import glob\n",
    "from os.path import join\n",
    "from joblib import Parallel, delayed\n",
    "import multiprocessing as mp\n",
    "import seaborn as sns"
   ]
  },
  {
   "cell_type": "code",
   "execution_count": 12,
   "metadata": {},
   "outputs": [
    {
     "name": "stdout",
     "output_type": "stream",
     "text": [
      "598281\n"
     ]
    }
   ],
   "source": [
    "img_dir = '/home/zal/Data/DETRAC/DETRAC-Train-Data-Orientation'\n",
    "print(len(glob.glob(join(img_dir, '*.jpg'))))"
   ]
  },
  {
   "cell_type": "markdown",
   "metadata": {},
   "source": [
    "### Color Analysis"
   ]
  },
  {
   "cell_type": "code",
   "execution_count": 3,
   "metadata": {},
   "outputs": [],
   "source": [
    "def get_img_mean(img_path):\n",
    "    img = cv2.imread(img_path)\n",
    "    row_mean_color = np.mean(img, axis=0)\n",
    "    mean_color = np.mean(row_mean_color, axis=0) / 255.0\n",
    "    return mean_color"
   ]
  },
  {
   "cell_type": "code",
   "execution_count": 7,
   "metadata": {},
   "outputs": [],
   "source": [
    "color_means = Parallel(n_jobs=mp.cpu_count())(delayed(get_img_mean)(img_path=file_path) for file_path in glob.glob(join(img_dir, '*.jpg')))"
   ]
  },
  {
   "cell_type": "code",
   "execution_count": 11,
   "metadata": {},
   "outputs": [
    {
     "name": "stdout",
     "output_type": "stream",
     "text": [
      "598281\n",
      "[0.47433634 0.4657492  0.46872237]\n",
      "[0.11906589 0.11330419 0.10787867]\n"
     ]
    }
   ],
   "source": [
    "print(len(color_means))\n",
    "print(np.mean(color_means, axis=0))\n",
    "print(np.std(color_means, axis=0))"
   ]
  },
  {
   "cell_type": "markdown",
   "metadata": {},
   "source": [
    "### Shape analysis"
   ]
  },
  {
   "cell_type": "code",
   "execution_count": 13,
   "metadata": {},
   "outputs": [],
   "source": [
    "def get_img_shape(img_path):\n",
    "    return Image.open(img_path).size"
   ]
  },
  {
   "cell_type": "code",
   "execution_count": 23,
   "metadata": {},
   "outputs": [],
   "source": [
    "img_shapes = Parallel(n_jobs=mp.cpu_count())(delayed(get_img_shape)(img_path=file_path) for file_path in glob.glob(join(img_dir, '*.jpg')))"
   ]
  },
  {
   "cell_type": "code",
   "execution_count": 24,
   "metadata": {},
   "outputs": [
    {
     "name": "stdout",
     "output_type": "stream",
     "text": [
      "598281\n",
      "(29, 17)\n",
      "[92.31389598 63.56632586]\n",
      "[64.93723257 45.10111181]\n",
      "[5 3]\n",
      "[960 435]\n"
     ]
    }
   ],
   "source": [
    "print(len(img_shapes))\n",
    "print(img_shapes[-1])\n",
    "print(np.mean(img_shapes, axis=0))\n",
    "print(np.std(img_shapes, axis=0))\n",
    "print(np.min(img_shapes, axis=0))\n",
    "print(np.max(img_shapes, axis=0))"
   ]
  },
  {
   "cell_type": "code",
   "execution_count": 34,
   "metadata": {},
   "outputs": [
    {
     "name": "stderr",
     "output_type": "stream",
     "text": [
      "/home/zal/.local/lib/python3.6/site-packages/scipy/stats/stats.py:1713: FutureWarning: Using a non-tuple sequence for multidimensional indexing is deprecated; use `arr[tuple(seq)]` instead of `arr[seq]`. In the future this will be interpreted as an array index, `arr[np.array(seq)]`, which will result either in an error or a different result.\n",
      "  return np.add.reduce(sorted[indexer] * weights, axis=axis) / sumval\n"
     ]
    },
    {
     "data": {
      "text/plain": [
       "<matplotlib.legend.Legend at 0x7fec53b110f0>"
      ]
     },
     "execution_count": 34,
     "metadata": {},
     "output_type": "execute_result"
    },
    {
     "data": {
      "image/png": "[encoded data removed]",
      "text/plain": [
       "<Figure size 432x288 with 1 Axes>"
      ]
     },
     "metadata": {},
     "output_type": "display_data"
    }
   ],
   "source": [
    "ax = sns.distplot([x[0] for x in img_shapes], label='width')\n",
    "ax = sns.distplot([x[1] for x in img_shapes], label='height')\n",
    "ax.legend()"
   ]
  }
 ],
 "metadata": {
  "kernelspec": {
   "display_name": "Python 3",
   "language": "python",
   "name": "python3"
  },
  "language_info": {
   "codemirror_mode": {
    "name": "ipython",
    "version": 3
   },
   "file_extension": ".py",
   "mimetype": "text/x-python",
   "name": "python",
   "nbconvert_exporter": "python",
   "pygments_lexer": "ipython3",
   "version": "3.7.0"
  }
 },
 "nbformat": 4,
 "nbformat_minor": 2
}
