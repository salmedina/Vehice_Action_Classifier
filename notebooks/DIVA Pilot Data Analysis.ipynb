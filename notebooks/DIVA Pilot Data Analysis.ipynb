{
 "cells": [
  {
   "cell_type": "code",
   "execution_count": 41,
   "metadata": {},
   "outputs": [],
   "source": [
    "import matplotlib.pyplot as plt\n",
    "import seaborn as sns\n",
    "from glob import glob\n",
    "import os\n",
    "from os.path import basename, splitext, dirname"
   ]
  },
  {
   "cell_type": "code",
   "execution_count": 31,
   "metadata": {},
   "outputs": [],
   "source": [
    "scene_ids = ['G327', 'G328', 'G330', 'G336', 'G337', 'G341']"
   ]
  },
  {
   "cell_type": "markdown",
   "metadata": {},
   "source": [
    "- 67 videos\n",
    "- 7 new scenes\n",
    "- 833619 frames"
   ]
  },
  {
   "cell_type": "code",
   "execution_count": 30,
   "metadata": {},
   "outputs": [
    {
     "name": "stdout",
     "output_type": "stream",
     "text": [
      "/home/zal/Data/VIRAT/Frames/imgs/VIRAT_S_G33600_2017-08-15_16-48-32_16-58-32/\n",
      "/home/zal/Data/VIRAT/Frames/imgs/VIRAT_S_G33700_2017-08-15_16-48-57_16-58-57_clip1/\n",
      "/home/zal/Data/VIRAT/Frames/imgs/VIRAT_S_G33701_2017-08-15_16-48-57_16-58-57_clip2/\n",
      "/home/zal/Data/VIRAT/Frames/imgs/VIRAT_S_G33702_2017-08-16_10-11-44_10-21-44/\n",
      "/home/zal/Data/VIRAT/Frames/imgs/VIRAT_S_G33703_2017-08-16_10-21-44_10-31-44/\n",
      "/home/zal/Data/VIRAT/Frames/imgs/VIRAT_S_G33704_2017-08-16_10-31-44_10-41-44/\n",
      "/home/zal/Data/VIRAT/Frames/imgs/VIRAT_S_G33705_2017-08-17_11-17-54_11-27-54/\n",
      "/home/zal/Data/VIRAT/Frames/imgs/VIRAT_S_G33706_2017-08-17_11-27-54_11-37-54/\n",
      "/home/zal/Data/VIRAT/Frames/imgs/VIRAT_S_G33707_2017-08-17_11-37-54_11-47-54/\n",
      "/home/zal/Data/VIRAT/Frames/imgs/VIRAT_S_G33708_2017-08-17_11-57-54_12-07-54_clip1/\n",
      "/home/zal/Data/VIRAT/Frames/imgs/VIRAT_S_G33709_2017-08-17_11-57-54_12-07-54_clip2/\n",
      "/home/zal/Data/VIRAT/Frames/imgs/VIRAT_S_G33710_2017-08-17_12-07-54_12-17-54_clip1/\n",
      "/home/zal/Data/VIRAT/Frames/imgs/VIRAT_S_G33711_2017-08-17_12-07-54_12-17-54_clip2/\n",
      "/home/zal/Data/VIRAT/Frames/imgs/VIRAT_S_G33712_2017-08-17_12-07-54_12-17-54_clip3/\n",
      "/home/zal/Data/VIRAT/Frames/imgs/VIRAT_S_G33713_2017-08-17_12-17-54_12-27-54_clip1/\n",
      "/home/zal/Data/VIRAT/Frames/imgs/VIRAT_S_G33714_2017-08-17_12-17-54_12-27-54_clip2/\n",
      "/home/zal/Data/VIRAT/Frames/imgs/VIRAT_S_G34100_2017-08-15_16-46-24_16-56-24_clip1/\n",
      "/home/zal/Data/VIRAT/Frames/imgs/VIRAT_S_G34101_2017-08-15_16-46-24_16-56-24_clip2/\n",
      "/home/zal/Data/VIRAT/Frames/imgs/VIRAT_S_G34102_2017-08-16_10-27-17_10-37-17/\n",
      "/home/zal/Data/VIRAT/Frames/imgs/VIRAT_S_G34103_2017-08-16_10-37-17_10-47-17/\n",
      "/home/zal/Data/VIRAT/Frames/imgs/VIRAT_S_G34104_2017-08-17_11-11-08_11-21-08/\n",
      "/home/zal/Data/VIRAT/Frames/imgs/VIRAT_S_G34105_2017-08-17_11-21-08_11-31-08/\n",
      "/home/zal/Data/VIRAT/Frames/imgs/VIRAT_S_G34106_2017-08-17_11-31-08_11-41-08/\n",
      "/home/zal/Data/VIRAT/Frames/imgs/VIRAT_S_G34107_2017-08-17_12-01-08_12-11-08_clip1/\n",
      "/home/zal/Data/VIRAT/Frames/imgs/VIRAT_S_G34108_2017-08-17_12-01-08_12-11-08_clip2/\n",
      "/home/zal/Data/VIRAT/Frames/imgs/VIRAT_S_G34109_2017-08-17_12-11-08_12-21-08_clip1/\n",
      "/home/zal/Data/VIRAT/Frames/imgs/VIRAT_S_G34110_2017-08-17_12-11-08_12-21-08_clip2/\n",
      "/home/zal/Data/VIRAT/Frames/imgs/VIRAT_S_G34111_2017-08-17_12-21-08_12-31-08_clip1/\n",
      "/home/zal/Data/VIRAT/Frames/imgs/VIRAT_S_G34112_2017-08-17_12-21-08_12-31-08_clip2/\n"
     ]
    }
   ],
   "source": [
    "pilot_dirs = sorted([d for d in glob('/home/zal/Data/VIRAT/Frames/imgs/*/') if '_G' in d])\n",
    "\n",
    "for sid in scene_ids:\n",
    "    scene_dirs = [d for d in pilot_dirs if sid in d]\n",
    "    for i, sdir in enumerate(scene_dirs):\n",
    "        ndir = sdir.replace(sid, '%s%02d'%(sid,i))\n",
    "        print(ndir)\n",
    "        os.rename(sdir, ndir)"
   ]
  },
  {
   "cell_type": "code",
   "execution_count": 32,
   "metadata": {},
   "outputs": [],
   "source": [
    "pilot_dirs = sorted([d for d in glob('/home/zal/Data/VIRAT/Frames/imgs/*/') if '_G' in d])"
   ]
  },
  {
   "cell_type": "code",
   "execution_count": 48,
   "metadata": {},
   "outputs": [
    {
     "name": "stdout",
     "output_type": "stream",
     "text": [
      "6\n",
      "[['G32700', 'G32701', 'G32702', 'G32703', 'G32704', 'G32705', 'G32706', 'G32707', 'G32708', 'G32709', 'G32710', 'G32711', 'G32712', 'G32713', 'G32714', 'G32715', 'G32716', 'G32717', 'G32718', 'G32719', 'G32720'], ['G32800', 'G32801', 'G32802', 'G32803', 'G32804', 'G32805', 'G32806', 'G32807', 'G32808', 'G32809', 'G32810', 'G32811', 'G32812', 'G32813'], ['G33000', 'G33001'], ['G33600'], ['G33700', 'G33701', 'G33702', 'G33703', 'G33704', 'G33705', 'G33706', 'G33707', 'G33708', 'G33709', 'G33710', 'G33711', 'G33712', 'G33713', 'G33714'], ['G34100', 'G34101', 'G34102', 'G34103', 'G34104', 'G34105', 'G34106', 'G34107', 'G34108', 'G34109', 'G34110', 'G34111', 'G34112']]\n"
     ]
    }
   ],
   "source": [
    "pilot_scene_ids = []\n",
    "for sid in scene_ids:\n",
    "    pilot_scene_ids.append([basename(dirname(d))[8:14] for d in pilot_dirs if sid in d])\n",
    "\n",
    "print(len(pilot_scene_ids))\n",
    "print(pilot_scene_ids)\n",
    "    "
   ]
  }
 ],
 "metadata": {
  "kernelspec": {
   "display_name": "Python 3",
   "language": "python",
   "name": "python3"
  },
  "language_info": {
   "codemirror_mode": {
    "name": "ipython",
    "version": 3
   },
   "file_extension": ".py",
   "mimetype": "text/x-python",
   "name": "python",
   "nbconvert_exporter": "python",
   "pygments_lexer": "ipython3",
   "version": "3.7.0"
  }
 },
 "nbformat": 4,
 "nbformat_minor": 2
}
